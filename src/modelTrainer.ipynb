{
  "cells": [
    {
      "cell_type": "markdown",
      "metadata": {
        "id": "8OggFXCD2IPu"
      },
      "source": [
        "# Generative chatbot dengan menggunakan Neural Network\n",
        "\n",
        "---\n",
        "\n",
        "\n",
        "\n"
      ]
    },
    {
      "cell_type": "markdown",
      "metadata": {
        "id": "qydsc_qHB08m"
      },
      "source": [
        "\n",
        "\n",
        "####1.   Install dan import libraries yang diperlukan\n",
        "\n"
      ]
    },
    {
      "cell_type": "code",
      "execution_count": 1,
      "metadata": {
        "colab": {
          "base_uri": "https://localhost:8080/"
        },
        "id": "YtD-uLyWEVuZ",
        "outputId": "5c2985bc-18d0-491a-bf68-dccbf8e3c5c5"
      },
      "outputs": [
        {
          "name": "stderr",
          "output_type": "stream",
          "text": [
            "[nltk_data] Downloading package punkt to\n",
            "[nltk_data]     /Users/vincentexelcio/nltk_data...\n",
            "[nltk_data]   Package punkt is already up-to-date!\n",
            "[nltk_data] Downloading package punkt_tab to\n",
            "[nltk_data]     /Users/vincentexelcio/nltk_data...\n",
            "[nltk_data]   Package punkt_tab is already up-to-date!\n"
          ]
        }
      ],
      "source": [
        "import nltk\n",
        "nltk.download('punkt')\n",
        "nltk.download('punkt_tab')\n",
        "from Sastrawi.Stemmer.StemmerFactory import StemmerFactory\n",
        "import string\n",
        "import numpy as np\n",
        "import json\n",
        "import torch\n",
        "import torch.nn as nn\n",
        "from torch.utils.data import Dataset, DataLoader\n",
        "import random\n",
        "from collections import defaultdict"
      ]
    },
    {
      "cell_type": "markdown",
      "metadata": {
        "id": "J50WTLzFGnOl"
      },
      "source": [
        "## Pemrosesan teks\n"
      ]
    },
    {
      "cell_type": "markdown",
      "metadata": {
        "id": "5n3WmNrJCK7M"
      },
      "source": [
        "####2.    Membuat fungsi-fungsi yang akan digunakan untuk pemrosesan teks\n",
        "\n",
        "\n",
        "*   tokenize() (memisahkan kalimat menjadi kumpulan kata)\n",
        "\n",
        "*   stem() (menghapuskan imbuhan pada kata, contoh having --> have)\n",
        "\n",
        "*    bag_of_words() (mengubah kalimat menjadi kumpulan kata dan ditandai dengan 0 (kata tidak terdapat pada dataset) dan 1 (kata terdapat pada dataset))\n",
        "\n"
      ]
    },
    {
      "cell_type": "code",
      "execution_count": 2,
      "metadata": {
        "id": "P1ecQ-hdFEqY"
      },
      "outputs": [],
      "source": [
        "def tokenize(sentence):\n",
        "    '''\n",
        "    Fungsi untuk memisahkan kalimat menjadi kumpulan kata\n",
        "    '''\n",
        "    return nltk.word_tokenize(sentence)\n",
        "    \n",
        "\n",
        "def stem(word):\n",
        "    '''\n",
        "    Fungsi untuk menghilangkan imbuhan pada kata\n",
        "    '''\n",
        "    stemmer = StemmerFactory().create_stemmer()\n",
        "    return stemmer.stem(word.lower())\n",
        "\n",
        "def bag_of_words(tokenized_sentence, all_words):\n",
        "    '''\n",
        "    Fungsi untuk membuat one-hot encoding list\n",
        "    '''\n",
        "    tokenized_sentence = [stem(w) for w in tokenized_sentence]\n",
        "    bow = np.zeros(len(all_words), dtype = np.float32)\n",
        "    for idx, word in enumerate(all_words):\n",
        "        if word in tokenized_sentence:\n",
        "            bow[idx] = 1.\n",
        "    return bow"
      ]
    },
    {
      "cell_type": "markdown",
      "metadata": {
        "id": "ps53iOJhG5hf"
      },
      "source": [
        "## Memproses dataset untuk training model"
      ]
    },
    {
      "cell_type": "markdown",
      "metadata": {
        "id": "2Ho-wRCk8j7t"
      },
      "source": [
        "####3. Mengambil dataset dan mengolahnya menjadi features dan label\n",
        "\n"
      ]
    },
    {
      "cell_type": "code",
      "execution_count": 3,
      "metadata": {
        "colab": {
          "background_save": true
        },
        "id": "M1QGErFAGUrw"
      },
      "outputs": [],
      "source": [
        "INTENTS_PATH = '../data/intents_indo.json'\n",
        "\n",
        "with open(INTENTS_PATH, 'r') as f:\n",
        "    intents = json.load(f)\n",
        "\n",
        "all_words = [] # untuk menyimpan seluruh kata dari dataset\n",
        "tags = [] # untuk menyimpan label\n",
        "pattern_tag = [] # untuk menyimpan pola kalimat beserta labelnya\n",
        "\n",
        "for intent in intents['intents']:\n",
        "    # loop dari dataset dan menyimpan label\n",
        "    tag = intent['tag'].lower()\n",
        "    tags.append(tag)\n",
        "\n",
        "    for pattern in intent['patterns']:\n",
        "        # loop dari tiap pola kalimat yang ada pada label\n",
        "        ptrn = tokenize(pattern) # memecah kalimat menjadi kumpulan kata\n",
        "        all_words.extend(ptrn)\n",
        "        pattern_tag.append((ptrn, tag))\n",
        "\n",
        "all_words = [stem(word) for word in all_words if word not in string.punctuation] # menghilangkan imbuhan pada kata dan memisahkan tanda baca\n",
        "all_words = sorted(set(all_words)) # menghapus duplikasi data\n",
        "\n",
        "x_train = []\n",
        "y_train = []\n",
        "for pattern, tag in pattern_tag:\n",
        "    # loop dari tiap poka kalimat dan label\n",
        "    bag = bag_of_words(pattern, all_words) # mengubah kalimat menjadi bentuk BoW\n",
        "    x_train.append(bag)\n",
        "\n",
        "    label = tags.index(tag) # mencari lokasi index dari label\n",
        "    y_train.append(label)\n",
        "\n",
        "x_train = np.array(x_train)\n",
        "y_train = np.array(y_train)"
      ]
    },
    {
      "cell_type": "markdown",
      "metadata": {
        "id": "_4AznmgW891r"
      },
      "source": [
        "####4.    Features dan label yang telah dibuat disimpan ke dataset dan dibagi menjadi batch yang berisi 8 data"
      ]
    },
    {
      "cell_type": "code",
      "execution_count": 4,
      "metadata": {
        "colab": {
          "background_save": true
        },
        "id": "-xNSFMaBZwo5"
      },
      "outputs": [],
      "source": [
        "class ChatDataset(Dataset):\n",
        "    '''\n",
        "    Class untuk membuat dataset dari data yang telah diproses\n",
        "    '''\n",
        "    def __init__(self):\n",
        "        self.n_samples = len(x_train)\n",
        "        self.x_data = x_train\n",
        "        self.y_data = y_train\n",
        "\n",
        "    def __getitem__(self, idx):\n",
        "        return self.x_data[idx], self.y_data[idx]\n",
        "\n",
        "    def __len__(self):\n",
        "        return self.n_samples\n",
        "\n",
        "dataset = ChatDataset()\n",
        "train_loader = DataLoader(dataset = dataset, batch_size = 8, shuffle = True, num_workers = 0, )"
      ]
    },
    {
      "cell_type": "markdown",
      "metadata": {
        "id": "mZu59OxrjFRf"
      },
      "source": [
        "## Neural Network model"
      ]
    },
    {
      "cell_type": "markdown",
      "metadata": {
        "id": "Sb4mPeFWJ27d"
      },
      "source": [
        "####5.  Membuat model untuk prediksi dengan 3 linear layer dan 1 activation layer menggunakan ReLU"
      ]
    },
    {
      "cell_type": "code",
      "execution_count": 5,
      "metadata": {
        "colab": {
          "background_save": true
        },
        "id": "5mzwy5P1HMwU"
      },
      "outputs": [],
      "source": [
        "class NeuralNet(nn.Module):\n",
        "    '''\n",
        "    Model untuk melakukan prediksi dengan menggunakan 3 layer neural network\n",
        "    '''\n",
        "    def __init__(self, input_size, hidden_size, num_classes):\n",
        "        super(NeuralNet, self).__init__()\n",
        "        self.l1 = nn.Linear(input_size, hidden_size)\n",
        "        self.l2 = nn.Linear(hidden_size, hidden_size)\n",
        "        self.l3 = nn.Linear(hidden_size, num_classes)\n",
        "        self.relu = nn.ReLU()\n",
        "\n",
        "    def forward(self, x):\n",
        "        out = self.l1(x)\n",
        "        out = self.relu(out)\n",
        "        out = self.l2(out)\n",
        "        out = self.relu(out)\n",
        "        out = self.l3(out)\n",
        "\n",
        "        return out"
      ]
    },
    {
      "cell_type": "markdown",
      "metadata": {
        "id": "1Jv7nYhSKJOX"
      },
      "source": [
        "####6.  Set hyper parameter untuk model"
      ]
    },
    {
      "cell_type": "code",
      "execution_count": 6,
      "metadata": {
        "colab": {
          "background_save": true
        },
        "id": "exCGXNOFMM-7"
      },
      "outputs": [],
      "source": [
        "device = torch.device('cuda' if torch.cuda.is_available() else 'cpu')\n",
        "\n",
        "input_size = len(all_words) # input layer memiliki ukuran data yang kita miliki\n",
        "hidden_size = 10 # hidden size jumlah node di tiap hidden layer\n",
        "output_size = len(tags) # output layer yang berisi jumlah tag dari dataset\n",
        "model = NeuralNet(input_size, hidden_size, output_size) # model untuk memberikan tanggapan dari input yang diberikan user"
      ]
    },
    {
      "cell_type": "code",
      "execution_count": 7,
      "metadata": {
        "colab": {
          "base_uri": "https://localhost:8080/"
        },
        "id": "NJJ8uEkHmLCh",
        "outputId": "c45ce723-c460-4618-a310-4b0896a02cef"
      },
      "outputs": [
        {
          "name": "stdout",
          "output_type": "stream",
          "text": [
            "epoch 100 / 600, loss = 0.6503\n",
            "epoch 200 / 600, loss = 0.0071\n",
            "epoch 300 / 600, loss = 0.0072\n",
            "epoch 400 / 600, loss = 0.0030\n",
            "epoch 500 / 600, loss = 0.0004\n",
            "epoch 600 / 600, loss = 0.0004\n",
            "final loss, loss = 0.0004\n"
          ]
        }
      ],
      "source": [
        "num_epochs = 600 # jumlah iterasi untuk melatih model\n",
        "learning_rate = 0.001 # skala untuk memperbarui nilai dari parameter saat backward propagation\n",
        "\n",
        "criterion = nn.CrossEntropyLoss() # untuk perhitungan nilai loss dari prediksi yang dilakukan oleh model\n",
        "optimizer = torch.optim.Adam(model.parameters(), lr = learning_rate) # untuk optimisasi nilai parameter pada model\n",
        "\n",
        "for epoch in range(num_epochs):\n",
        "    for (words, labels) in train_loader:\n",
        "        words = words.to(device)\n",
        "        labels = labels.to(device)\n",
        "\n",
        "        pred = model(words)\n",
        "        loss = criterion(pred, labels) # membandingkan prediksi dengan label sebenarnya\n",
        "\n",
        "        # optimisasi nilai parameter\n",
        "        optimizer.zero_grad()\n",
        "        loss.backward()\n",
        "        optimizer.step()\n",
        "\n",
        "    # cetak nilai loss tiap iterasi ke 100 dan terakhir\n",
        "    if (epoch + 1) % 100 == 0:\n",
        "        print(f'epoch {epoch + 1} / {num_epochs}, loss = {loss.item():.4f}')\n",
        "print(f'final loss, loss = {loss.item():.4f}')"
      ]
    },
    {
      "cell_type": "markdown",
      "metadata": {
        "id": "wDzz5SA9Lz9f"
      },
      "source": [
        "####7. Menyimpan model yang telah dilatih beserta dengan parameternya"
      ]
    },
    {
      "cell_type": "code",
      "execution_count": 8,
      "metadata": {
        "colab": {
          "base_uri": "https://localhost:8080/"
        },
        "id": "shSFjhtekrc7",
        "outputId": "26ef3d61-257b-4f19-c009-ab49352eacc6"
      },
      "outputs": [
        {
          "name": "stdout",
          "output_type": "stream",
          "text": [
            "training_complete. file saved to ../model/trained_model_indo.pth\n"
          ]
        }
      ],
      "source": [
        "data = {\n",
        "    'model_state' : model.state_dict(),\n",
        "    'input_size' : input_size,\n",
        "    'hidden_size' : hidden_size,\n",
        "    'output_size' : output_size,\n",
        "    'all_words' : all_words,\n",
        "    'tags' : tags\n",
        "}\n",
        "\n",
        "FILE = '../model/trained_model_indo.pth'\n",
        "torch.save(data, FILE)\n",
        "\n",
        "print(f'training_complete. file saved to {FILE}')"
      ]
    },
    {
      "cell_type": "code",
      "execution_count": 9,
      "metadata": {
        "colab": {
          "base_uri": "https://localhost:8080/"
        },
        "id": "tK48ixXJHGkA",
        "outputId": "94f204bc-a087-4e20-8c19-5248a4ba65c6"
      },
      "outputs": [
        {
          "data": {
            "text/plain": [
              "NeuralNet(\n",
              "  (l1): Linear(in_features=63, out_features=10, bias=True)\n",
              "  (l2): Linear(in_features=10, out_features=10, bias=True)\n",
              "  (l3): Linear(in_features=10, out_features=13, bias=True)\n",
              "  (relu): ReLU()\n",
              ")"
            ]
          },
          "execution_count": 9,
          "metadata": {},
          "output_type": "execute_result"
        }
      ],
      "source": [
        "# import model yang telah dilatih dan dataset yang digunakan\n",
        "\n",
        "data = torch.load(FILE)\n",
        "input_size = data['input_size']\n",
        "hidden_size = data['hidden_size']\n",
        "output_size = data['output_size']\n",
        "all_words = data['all_words']\n",
        "tags = data['tags']\n",
        "model_state = data['model_state']\n",
        "\n",
        "model = NeuralNet(input_size, hidden_size, output_size).to(device)\n",
        "model.load_state_dict(model_state)\n",
        "model.eval()"
      ]
    },
    {
      "cell_type": "markdown",
      "metadata": {
        "id": "x8h5XDPpL7JN"
      },
      "source": [
        "####8. Chatbot siap digunakan"
      ]
    },
    {
      "cell_type": "code",
      "execution_count": 10,
      "metadata": {
        "colab": {
          "background_save": true,
          "base_uri": "https://localhost:8080/",
          "height": 473
        },
        "id": "AV2Zpog3-5Xp",
        "outputId": "4f08fd3a-e705-4dc4-b953-f47a966c24bc"
      },
      "outputs": [
        {
          "name": "stdout",
          "output_type": "stream",
          "text": [
            "ketik 'quit' untuk keluar dari program chatbot\n",
            "aiBot : Terimakasih telah menggunakan chatbot kami.\n"
          ]
        }
      ],
      "source": [
        "# bot_name = 'aiBot'\n",
        "# print(\"ketik 'quit' untuk keluar dari program chatbot\")\n",
        "# while True:\n",
        "#     sentence = input('Anda  : ')\n",
        "#     if sentence == 'quit':\n",
        "#         print(f'{bot_name} : Terimakasih telah menggunakan chatbot kami.')\n",
        "#         break\n",
        "\n",
        "#     sentence = tokenize(sentence)\n",
        "#     X = bag_of_words(sentence, all_words)\n",
        "#     X = X.reshape(1, X.shape[0])\n",
        "#     X = torch.from_numpy(X)\n",
        "\n",
        "#     output = model(X)\n",
        "#     _, predicted = torch.max(output, dim = 1)\n",
        "#     tag = tags[predicted.item()]\n",
        "\n",
        "#     probs = torch.softmax(output, dim = 1)\n",
        "#     prob = probs[0][predicted.item()]\n",
        "\n",
        "#     if prob.item() > 0.55:\n",
        "#         for intent in intents[ 'intents']:\n",
        "#             if tag == intent['tag']:\n",
        "#                 print(f\"{bot_name} : {random.choice(intent['responses'])}\")\n",
        "#     else:\n",
        "#         print(f\"{bot_name} : Maaf Saya tidak mengerti\")"
      ]
    },
    {
      "cell_type": "code",
      "execution_count": null,
      "metadata": {},
      "outputs": [],
      "source": []
    }
  ],
  "metadata": {
    "colab": {
      "provenance": []
    },
    "kernelspec": {
      "display_name": ".venv",
      "language": "python",
      "name": "python3"
    },
    "language_info": {
      "codemirror_mode": {
        "name": "ipython",
        "version": 3
      },
      "file_extension": ".py",
      "mimetype": "text/x-python",
      "name": "python",
      "nbconvert_exporter": "python",
      "pygments_lexer": "ipython3",
      "version": "3.13.0"
    }
  },
  "nbformat": 4,
  "nbformat_minor": 0
}
